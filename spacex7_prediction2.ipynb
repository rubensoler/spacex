{
 "cells": [
  {
   "cell_type": "markdown",
   "id": "07f4671b",
   "metadata": {},
   "source": [
    "# **Space X  Falcon 9 First Stage Landing Prediction**"
   ]
  },
  {
   "cell_type": "markdown",
   "id": "ebe4408c",
   "metadata": {},
   "source": [
    "Space X advertises Falcon 9 rocket launches on its website with a cost of 62 million dollars; other providers cost upward of 165 million dollars each, much of the savings is because Space X can reuse the first stage. Therefore if we can determine if the first stage will land, we can determine the cost of a launch. This information can be used if an alternate company wants to bid against space X for a rocket launch.   In this lab, you will create a machine learning pipeline  to predict if the first stage will land given the data from the preceding labs.\n"
   ]
  },
  {
   "cell_type": "markdown",
   "id": "14c67344",
   "metadata": {},
   "source": [
    "## Objectives\n"
   ]
  },
  {
   "cell_type": "markdown",
   "id": "5cd2ad44",
   "metadata": {},
   "source": [
    "Perform exploratory  Data Analysis and determine Training Labels\n",
    "\n",
    "*   create a column for the class\n",
    "*   Standardize the data\n",
    "*   Split into training data and test data\n",
    "*   Find best Hyperparameter for SVM, Classification Trees and Logistic Regression\n",
    "*   Find the method performs best using test data"
   ]
  },
  {
   "cell_type": "code",
   "execution_count": 1,
   "id": "a19e3d77",
   "metadata": {},
   "outputs": [
    {
     "name": "stderr",
     "output_type": "stream",
     "text": [
      "C:\\Users\\Ruben\\anaconda3\\lib\\site-packages\\seaborn\\utils.py:10: UserWarning: A NumPy version >=1.22.4 and <2.3.0 is required for this version of SciPy (detected version 1.21.5)\n",
      "  from scipy import stats\n"
     ]
    }
   ],
   "source": [
    "# Pandas is a software library written for the Python programming language for data manipulation and analysis.\n",
    "import pandas as pd\n",
    "# NumPy is a library for the Python programming language, adding support for large, multi-dimensional arrays and matrices, along with a large collection of high-level mathematical functions to operate on these arrays\n",
    "import numpy as np\n",
    "# Matplotlib is a plotting library for python and pyplot gives us a MatLab like plotting framework. We will use this in our plotter function to plot data.\n",
    "import matplotlib.pyplot as plt\n",
    "#Seaborn is a Python data visualization library based on matplotlib. It provides a high-level interface for drawing attractive and informative statistical graphics\n",
    "import seaborn as sns\n",
    "# Preprocessing allows us to standarsize our data\n",
    "from sklearn import preprocessing\n",
    "# Allows us to split our data into training and testing data\n",
    "from sklearn.model_selection import train_test_split\n",
    "# Allows us to test parameters of classification algorithms and find the best one\n",
    "from sklearn.model_selection import GridSearchCV\n",
    "# Logistic Regression classification algorithm\n",
    "from sklearn.linear_model import LogisticRegression\n",
    "# Support Vector Machine classification algorithm\n",
    "from sklearn.svm import SVC\n",
    "# Decision Tree classification algorithm\n",
    "from sklearn.tree import DecisionTreeClassifier\n",
    "# K Nearest Neighbors classification algorithm\n",
    "from sklearn.neighbors import KNeighborsClassifier"
   ]
  },
  {
   "cell_type": "code",
   "execution_count": 2,
   "id": "f6b804e1",
   "metadata": {},
   "outputs": [],
   "source": [
    "def plot_confusion_matrix(y,y_predict):\n",
    "    \"this function plots the confusion matrix\"\n",
    "    from sklearn.metrics import confusion_matrix\n",
    "\n",
    "    cm = confusion_matrix(y, y_predict)\n",
    "    ax= plt.subplot()\n",
    "    sns.heatmap(cm, annot=True, ax = ax); #annot=True to annotate cells\n",
    "    ax.set_xlabel('Predicted labels')\n",
    "    ax.set_ylabel('True labels')\n",
    "    ax.set_title('Confusion Matrix'); \n",
    "    ax.xaxis.set_ticklabels(['did not land', 'land']); ax.yaxis.set_ticklabels(['did not land', 'landed']) \n",
    "    plt.show() "
   ]
  },
  {
   "cell_type": "markdown",
   "id": "0e7c29de",
   "metadata": {},
   "source": [
    "## Load the dataframe\n"
   ]
  },
  {
   "cell_type": "code",
   "execution_count": 3,
   "id": "55a01694",
   "metadata": {},
   "outputs": [
    {
     "name": "stdout",
     "output_type": "stream",
     "text": [
      "   FlightNumber        Date BoosterVersion  PayloadMass Orbit    LaunchSite  \\\n",
      "0             1  2010-06-04       Falcon 9  6104.959412   LEO  CCAFS SLC 40   \n",
      "1             2  2012-05-22       Falcon 9   525.000000   LEO  CCAFS SLC 40   \n",
      "2             3  2013-03-01       Falcon 9   677.000000   ISS  CCAFS SLC 40   \n",
      "3             4  2013-09-29       Falcon 9   500.000000    PO   VAFB SLC 4E   \n",
      "4             5  2013-12-03       Falcon 9  3170.000000   GTO  CCAFS SLC 40   \n",
      "\n",
      "       Outcome  Flights  GridFins  Reused   Legs LandingPad  Block  \\\n",
      "0    None None        1     False   False  False        NaN    1.0   \n",
      "1    None None        1     False   False  False        NaN    1.0   \n",
      "2    None None        1     False   False  False        NaN    1.0   \n",
      "3  False Ocean        1     False   False  False        NaN    1.0   \n",
      "4    None None        1     False   False  False        NaN    1.0   \n",
      "\n",
      "   ReusedCount Serial   Longitude   Latitude  Class  \n",
      "0            0  B0003  -80.577366  28.561857      0  \n",
      "1            0  B0005  -80.577366  28.561857      0  \n",
      "2            0  B0007  -80.577366  28.561857      0  \n",
      "3            0  B1003 -120.610829  34.632093      0  \n",
      "4            0  B1004  -80.577366  28.561857      0  \n"
     ]
    }
   ],
   "source": [
    "import requests\n",
    "import pandas as pd\n",
    "import io\n",
    "\n",
    "# URL del archivo CSV\n",
    "URL1 = \"https://cf-courses-data.s3.us.cloud-object-storage.appdomain.cloud/IBM-DS0321EN-SkillsNetwork/datasets/dataset_part_2.csv\"\n",
    "\n",
    "# Descargar el archivo CSV usando requests\n",
    "response = requests.get(URL1)\n",
    "\n",
    "# Verificar que la solicitud fue exitosa\n",
    "if response.status_code == 200:\n",
    "    # Convertir el contenido a un objeto BytesIO y leerlo con pandas\n",
    "    text1 = io.BytesIO(response.content)\n",
    "    data = pd.read_csv(text1)\n",
    "    # Mostrar las primeras filas del DataFrame\n",
    "    print(data.head())\n",
    "else:\n",
    "    print(f\"Error al descargar el archivo. Código de estado: {response.status_code}\")\n"
   ]
  },
  {
   "cell_type": "code",
   "execution_count": 4,
   "id": "f7aeaf44",
   "metadata": {},
   "outputs": [
    {
     "data": {
      "text/html": [
       "<div>\n",
       "<style scoped>\n",
       "    .dataframe tbody tr th:only-of-type {\n",
       "        vertical-align: middle;\n",
       "    }\n",
       "\n",
       "    .dataframe tbody tr th {\n",
       "        vertical-align: top;\n",
       "    }\n",
       "\n",
       "    .dataframe thead th {\n",
       "        text-align: right;\n",
       "    }\n",
       "</style>\n",
       "<table border=\"1\" class=\"dataframe\">\n",
       "  <thead>\n",
       "    <tr style=\"text-align: right;\">\n",
       "      <th></th>\n",
       "      <th>FlightNumber</th>\n",
       "      <th>Date</th>\n",
       "      <th>BoosterVersion</th>\n",
       "      <th>PayloadMass</th>\n",
       "      <th>Orbit</th>\n",
       "      <th>LaunchSite</th>\n",
       "      <th>Outcome</th>\n",
       "      <th>Flights</th>\n",
       "      <th>GridFins</th>\n",
       "      <th>Reused</th>\n",
       "      <th>Legs</th>\n",
       "      <th>LandingPad</th>\n",
       "      <th>Block</th>\n",
       "      <th>ReusedCount</th>\n",
       "      <th>Serial</th>\n",
       "      <th>Longitude</th>\n",
       "      <th>Latitude</th>\n",
       "      <th>Class</th>\n",
       "    </tr>\n",
       "  </thead>\n",
       "  <tbody>\n",
       "    <tr>\n",
       "      <th>0</th>\n",
       "      <td>1</td>\n",
       "      <td>2010-06-04</td>\n",
       "      <td>Falcon 9</td>\n",
       "      <td>6104.959412</td>\n",
       "      <td>LEO</td>\n",
       "      <td>CCAFS SLC 40</td>\n",
       "      <td>None None</td>\n",
       "      <td>1</td>\n",
       "      <td>False</td>\n",
       "      <td>False</td>\n",
       "      <td>False</td>\n",
       "      <td>NaN</td>\n",
       "      <td>1.0</td>\n",
       "      <td>0</td>\n",
       "      <td>B0003</td>\n",
       "      <td>-80.577366</td>\n",
       "      <td>28.561857</td>\n",
       "      <td>0</td>\n",
       "    </tr>\n",
       "    <tr>\n",
       "      <th>1</th>\n",
       "      <td>2</td>\n",
       "      <td>2012-05-22</td>\n",
       "      <td>Falcon 9</td>\n",
       "      <td>525.000000</td>\n",
       "      <td>LEO</td>\n",
       "      <td>CCAFS SLC 40</td>\n",
       "      <td>None None</td>\n",
       "      <td>1</td>\n",
       "      <td>False</td>\n",
       "      <td>False</td>\n",
       "      <td>False</td>\n",
       "      <td>NaN</td>\n",
       "      <td>1.0</td>\n",
       "      <td>0</td>\n",
       "      <td>B0005</td>\n",
       "      <td>-80.577366</td>\n",
       "      <td>28.561857</td>\n",
       "      <td>0</td>\n",
       "    </tr>\n",
       "    <tr>\n",
       "      <th>2</th>\n",
       "      <td>3</td>\n",
       "      <td>2013-03-01</td>\n",
       "      <td>Falcon 9</td>\n",
       "      <td>677.000000</td>\n",
       "      <td>ISS</td>\n",
       "      <td>CCAFS SLC 40</td>\n",
       "      <td>None None</td>\n",
       "      <td>1</td>\n",
       "      <td>False</td>\n",
       "      <td>False</td>\n",
       "      <td>False</td>\n",
       "      <td>NaN</td>\n",
       "      <td>1.0</td>\n",
       "      <td>0</td>\n",
       "      <td>B0007</td>\n",
       "      <td>-80.577366</td>\n",
       "      <td>28.561857</td>\n",
       "      <td>0</td>\n",
       "    </tr>\n",
       "    <tr>\n",
       "      <th>3</th>\n",
       "      <td>4</td>\n",
       "      <td>2013-09-29</td>\n",
       "      <td>Falcon 9</td>\n",
       "      <td>500.000000</td>\n",
       "      <td>PO</td>\n",
       "      <td>VAFB SLC 4E</td>\n",
       "      <td>False Ocean</td>\n",
       "      <td>1</td>\n",
       "      <td>False</td>\n",
       "      <td>False</td>\n",
       "      <td>False</td>\n",
       "      <td>NaN</td>\n",
       "      <td>1.0</td>\n",
       "      <td>0</td>\n",
       "      <td>B1003</td>\n",
       "      <td>-120.610829</td>\n",
       "      <td>34.632093</td>\n",
       "      <td>0</td>\n",
       "    </tr>\n",
       "    <tr>\n",
       "      <th>4</th>\n",
       "      <td>5</td>\n",
       "      <td>2013-12-03</td>\n",
       "      <td>Falcon 9</td>\n",
       "      <td>3170.000000</td>\n",
       "      <td>GTO</td>\n",
       "      <td>CCAFS SLC 40</td>\n",
       "      <td>None None</td>\n",
       "      <td>1</td>\n",
       "      <td>False</td>\n",
       "      <td>False</td>\n",
       "      <td>False</td>\n",
       "      <td>NaN</td>\n",
       "      <td>1.0</td>\n",
       "      <td>0</td>\n",
       "      <td>B1004</td>\n",
       "      <td>-80.577366</td>\n",
       "      <td>28.561857</td>\n",
       "      <td>0</td>\n",
       "    </tr>\n",
       "  </tbody>\n",
       "</table>\n",
       "</div>"
      ],
      "text/plain": [
       "   FlightNumber        Date BoosterVersion  PayloadMass Orbit    LaunchSite  \\\n",
       "0             1  2010-06-04       Falcon 9  6104.959412   LEO  CCAFS SLC 40   \n",
       "1             2  2012-05-22       Falcon 9   525.000000   LEO  CCAFS SLC 40   \n",
       "2             3  2013-03-01       Falcon 9   677.000000   ISS  CCAFS SLC 40   \n",
       "3             4  2013-09-29       Falcon 9   500.000000    PO   VAFB SLC 4E   \n",
       "4             5  2013-12-03       Falcon 9  3170.000000   GTO  CCAFS SLC 40   \n",
       "\n",
       "       Outcome  Flights  GridFins  Reused   Legs LandingPad  Block  \\\n",
       "0    None None        1     False   False  False        NaN    1.0   \n",
       "1    None None        1     False   False  False        NaN    1.0   \n",
       "2    None None        1     False   False  False        NaN    1.0   \n",
       "3  False Ocean        1     False   False  False        NaN    1.0   \n",
       "4    None None        1     False   False  False        NaN    1.0   \n",
       "\n",
       "   ReusedCount Serial   Longitude   Latitude  Class  \n",
       "0            0  B0003  -80.577366  28.561857      0  \n",
       "1            0  B0005  -80.577366  28.561857      0  \n",
       "2            0  B0007  -80.577366  28.561857      0  \n",
       "3            0  B1003 -120.610829  34.632093      0  \n",
       "4            0  B1004  -80.577366  28.561857      0  "
      ]
     },
     "execution_count": 4,
     "metadata": {},
     "output_type": "execute_result"
    }
   ],
   "source": [
    "data.head()"
   ]
  },
  {
   "cell_type": "code",
   "execution_count": 5,
   "id": "d0e36864",
   "metadata": {},
   "outputs": [
    {
     "name": "stdout",
     "output_type": "stream",
     "text": [
      "   FlightNumber  PayloadMass  Flights  Block  ReusedCount  Orbit_ES-L1  \\\n",
      "0           1.0  6104.959412      1.0    1.0          0.0          0.0   \n",
      "1           2.0   525.000000      1.0    1.0          0.0          0.0   \n",
      "2           3.0   677.000000      1.0    1.0          0.0          0.0   \n",
      "3           4.0   500.000000      1.0    1.0          0.0          0.0   \n",
      "4           5.0  3170.000000      1.0    1.0          0.0          0.0   \n",
      "\n",
      "   Orbit_GEO  Orbit_GTO  Orbit_HEO  Orbit_ISS  ...  Serial_B1058  \\\n",
      "0        0.0        0.0        0.0        0.0  ...           0.0   \n",
      "1        0.0        0.0        0.0        0.0  ...           0.0   \n",
      "2        0.0        0.0        0.0        1.0  ...           0.0   \n",
      "3        0.0        0.0        0.0        0.0  ...           0.0   \n",
      "4        0.0        1.0        0.0        0.0  ...           0.0   \n",
      "\n",
      "   Serial_B1059  Serial_B1060  Serial_B1062  GridFins_False  GridFins_True  \\\n",
      "0           0.0           0.0           0.0             1.0            0.0   \n",
      "1           0.0           0.0           0.0             1.0            0.0   \n",
      "2           0.0           0.0           0.0             1.0            0.0   \n",
      "3           0.0           0.0           0.0             1.0            0.0   \n",
      "4           0.0           0.0           0.0             1.0            0.0   \n",
      "\n",
      "   Reused_False  Reused_True  Legs_False  Legs_True  \n",
      "0           1.0          0.0         1.0        0.0  \n",
      "1           1.0          0.0         1.0        0.0  \n",
      "2           1.0          0.0         1.0        0.0  \n",
      "3           1.0          0.0         1.0        0.0  \n",
      "4           1.0          0.0         1.0        0.0  \n",
      "\n",
      "[5 rows x 83 columns]\n"
     ]
    }
   ],
   "source": [
    "# URL del archivo CSV\n",
    "URL2 = 'https://cf-courses-data.s3.us.cloud-object-storage.appdomain.cloud/IBM-DS0321EN-SkillsNetwork/datasets/dataset_part_3.csv'\n",
    "\n",
    "# Descargar el archivo CSV usando requests\n",
    "response = requests.get(URL2)\n",
    "\n",
    "# Verificar que la solicitud fue exitosa\n",
    "if response.status_code == 200:\n",
    "    # Convertir el contenido a un objeto BytesIO y leerlo con pandas\n",
    "    text2 = io.BytesIO(response.content)\n",
    "    X = pd.read_csv(text2)\n",
    "    # Mostrar las primeras filas del DataFrame\n",
    "    print(X.head())\n",
    "else:\n",
    "    print(f\"Error al descargar el archivo. Código de estado: {response.status_code}\")"
   ]
  },
  {
   "cell_type": "code",
   "execution_count": 6,
   "id": "7fcb595c",
   "metadata": {},
   "outputs": [
    {
     "data": {
      "text/html": [
       "<div>\n",
       "<style scoped>\n",
       "    .dataframe tbody tr th:only-of-type {\n",
       "        vertical-align: middle;\n",
       "    }\n",
       "\n",
       "    .dataframe tbody tr th {\n",
       "        vertical-align: top;\n",
       "    }\n",
       "\n",
       "    .dataframe thead th {\n",
       "        text-align: right;\n",
       "    }\n",
       "</style>\n",
       "<table border=\"1\" class=\"dataframe\">\n",
       "  <thead>\n",
       "    <tr style=\"text-align: right;\">\n",
       "      <th></th>\n",
       "      <th>FlightNumber</th>\n",
       "      <th>PayloadMass</th>\n",
       "      <th>Flights</th>\n",
       "      <th>Block</th>\n",
       "      <th>ReusedCount</th>\n",
       "      <th>Orbit_ES-L1</th>\n",
       "      <th>Orbit_GEO</th>\n",
       "      <th>Orbit_GTO</th>\n",
       "      <th>Orbit_HEO</th>\n",
       "      <th>Orbit_ISS</th>\n",
       "      <th>...</th>\n",
       "      <th>Serial_B1058</th>\n",
       "      <th>Serial_B1059</th>\n",
       "      <th>Serial_B1060</th>\n",
       "      <th>Serial_B1062</th>\n",
       "      <th>GridFins_False</th>\n",
       "      <th>GridFins_True</th>\n",
       "      <th>Reused_False</th>\n",
       "      <th>Reused_True</th>\n",
       "      <th>Legs_False</th>\n",
       "      <th>Legs_True</th>\n",
       "    </tr>\n",
       "  </thead>\n",
       "  <tbody>\n",
       "    <tr>\n",
       "      <th>0</th>\n",
       "      <td>1.0</td>\n",
       "      <td>6104.959412</td>\n",
       "      <td>1.0</td>\n",
       "      <td>1.0</td>\n",
       "      <td>0.0</td>\n",
       "      <td>0.0</td>\n",
       "      <td>0.0</td>\n",
       "      <td>0.0</td>\n",
       "      <td>0.0</td>\n",
       "      <td>0.0</td>\n",
       "      <td>...</td>\n",
       "      <td>0.0</td>\n",
       "      <td>0.0</td>\n",
       "      <td>0.0</td>\n",
       "      <td>0.0</td>\n",
       "      <td>1.0</td>\n",
       "      <td>0.0</td>\n",
       "      <td>1.0</td>\n",
       "      <td>0.0</td>\n",
       "      <td>1.0</td>\n",
       "      <td>0.0</td>\n",
       "    </tr>\n",
       "    <tr>\n",
       "      <th>1</th>\n",
       "      <td>2.0</td>\n",
       "      <td>525.000000</td>\n",
       "      <td>1.0</td>\n",
       "      <td>1.0</td>\n",
       "      <td>0.0</td>\n",
       "      <td>0.0</td>\n",
       "      <td>0.0</td>\n",
       "      <td>0.0</td>\n",
       "      <td>0.0</td>\n",
       "      <td>0.0</td>\n",
       "      <td>...</td>\n",
       "      <td>0.0</td>\n",
       "      <td>0.0</td>\n",
       "      <td>0.0</td>\n",
       "      <td>0.0</td>\n",
       "      <td>1.0</td>\n",
       "      <td>0.0</td>\n",
       "      <td>1.0</td>\n",
       "      <td>0.0</td>\n",
       "      <td>1.0</td>\n",
       "      <td>0.0</td>\n",
       "    </tr>\n",
       "    <tr>\n",
       "      <th>2</th>\n",
       "      <td>3.0</td>\n",
       "      <td>677.000000</td>\n",
       "      <td>1.0</td>\n",
       "      <td>1.0</td>\n",
       "      <td>0.0</td>\n",
       "      <td>0.0</td>\n",
       "      <td>0.0</td>\n",
       "      <td>0.0</td>\n",
       "      <td>0.0</td>\n",
       "      <td>1.0</td>\n",
       "      <td>...</td>\n",
       "      <td>0.0</td>\n",
       "      <td>0.0</td>\n",
       "      <td>0.0</td>\n",
       "      <td>0.0</td>\n",
       "      <td>1.0</td>\n",
       "      <td>0.0</td>\n",
       "      <td>1.0</td>\n",
       "      <td>0.0</td>\n",
       "      <td>1.0</td>\n",
       "      <td>0.0</td>\n",
       "    </tr>\n",
       "    <tr>\n",
       "      <th>3</th>\n",
       "      <td>4.0</td>\n",
       "      <td>500.000000</td>\n",
       "      <td>1.0</td>\n",
       "      <td>1.0</td>\n",
       "      <td>0.0</td>\n",
       "      <td>0.0</td>\n",
       "      <td>0.0</td>\n",
       "      <td>0.0</td>\n",
       "      <td>0.0</td>\n",
       "      <td>0.0</td>\n",
       "      <td>...</td>\n",
       "      <td>0.0</td>\n",
       "      <td>0.0</td>\n",
       "      <td>0.0</td>\n",
       "      <td>0.0</td>\n",
       "      <td>1.0</td>\n",
       "      <td>0.0</td>\n",
       "      <td>1.0</td>\n",
       "      <td>0.0</td>\n",
       "      <td>1.0</td>\n",
       "      <td>0.0</td>\n",
       "    </tr>\n",
       "    <tr>\n",
       "      <th>4</th>\n",
       "      <td>5.0</td>\n",
       "      <td>3170.000000</td>\n",
       "      <td>1.0</td>\n",
       "      <td>1.0</td>\n",
       "      <td>0.0</td>\n",
       "      <td>0.0</td>\n",
       "      <td>0.0</td>\n",
       "      <td>1.0</td>\n",
       "      <td>0.0</td>\n",
       "      <td>0.0</td>\n",
       "      <td>...</td>\n",
       "      <td>0.0</td>\n",
       "      <td>0.0</td>\n",
       "      <td>0.0</td>\n",
       "      <td>0.0</td>\n",
       "      <td>1.0</td>\n",
       "      <td>0.0</td>\n",
       "      <td>1.0</td>\n",
       "      <td>0.0</td>\n",
       "      <td>1.0</td>\n",
       "      <td>0.0</td>\n",
       "    </tr>\n",
       "    <tr>\n",
       "      <th>...</th>\n",
       "      <td>...</td>\n",
       "      <td>...</td>\n",
       "      <td>...</td>\n",
       "      <td>...</td>\n",
       "      <td>...</td>\n",
       "      <td>...</td>\n",
       "      <td>...</td>\n",
       "      <td>...</td>\n",
       "      <td>...</td>\n",
       "      <td>...</td>\n",
       "      <td>...</td>\n",
       "      <td>...</td>\n",
       "      <td>...</td>\n",
       "      <td>...</td>\n",
       "      <td>...</td>\n",
       "      <td>...</td>\n",
       "      <td>...</td>\n",
       "      <td>...</td>\n",
       "      <td>...</td>\n",
       "      <td>...</td>\n",
       "      <td>...</td>\n",
       "    </tr>\n",
       "    <tr>\n",
       "      <th>85</th>\n",
       "      <td>86.0</td>\n",
       "      <td>15400.000000</td>\n",
       "      <td>2.0</td>\n",
       "      <td>5.0</td>\n",
       "      <td>2.0</td>\n",
       "      <td>0.0</td>\n",
       "      <td>0.0</td>\n",
       "      <td>0.0</td>\n",
       "      <td>0.0</td>\n",
       "      <td>0.0</td>\n",
       "      <td>...</td>\n",
       "      <td>0.0</td>\n",
       "      <td>0.0</td>\n",
       "      <td>1.0</td>\n",
       "      <td>0.0</td>\n",
       "      <td>0.0</td>\n",
       "      <td>1.0</td>\n",
       "      <td>0.0</td>\n",
       "      <td>1.0</td>\n",
       "      <td>0.0</td>\n",
       "      <td>1.0</td>\n",
       "    </tr>\n",
       "    <tr>\n",
       "      <th>86</th>\n",
       "      <td>87.0</td>\n",
       "      <td>15400.000000</td>\n",
       "      <td>3.0</td>\n",
       "      <td>5.0</td>\n",
       "      <td>2.0</td>\n",
       "      <td>0.0</td>\n",
       "      <td>0.0</td>\n",
       "      <td>0.0</td>\n",
       "      <td>0.0</td>\n",
       "      <td>0.0</td>\n",
       "      <td>...</td>\n",
       "      <td>1.0</td>\n",
       "      <td>0.0</td>\n",
       "      <td>0.0</td>\n",
       "      <td>0.0</td>\n",
       "      <td>0.0</td>\n",
       "      <td>1.0</td>\n",
       "      <td>0.0</td>\n",
       "      <td>1.0</td>\n",
       "      <td>0.0</td>\n",
       "      <td>1.0</td>\n",
       "    </tr>\n",
       "    <tr>\n",
       "      <th>87</th>\n",
       "      <td>88.0</td>\n",
       "      <td>15400.000000</td>\n",
       "      <td>6.0</td>\n",
       "      <td>5.0</td>\n",
       "      <td>5.0</td>\n",
       "      <td>0.0</td>\n",
       "      <td>0.0</td>\n",
       "      <td>0.0</td>\n",
       "      <td>0.0</td>\n",
       "      <td>0.0</td>\n",
       "      <td>...</td>\n",
       "      <td>0.0</td>\n",
       "      <td>0.0</td>\n",
       "      <td>0.0</td>\n",
       "      <td>0.0</td>\n",
       "      <td>0.0</td>\n",
       "      <td>1.0</td>\n",
       "      <td>0.0</td>\n",
       "      <td>1.0</td>\n",
       "      <td>0.0</td>\n",
       "      <td>1.0</td>\n",
       "    </tr>\n",
       "    <tr>\n",
       "      <th>88</th>\n",
       "      <td>89.0</td>\n",
       "      <td>15400.000000</td>\n",
       "      <td>3.0</td>\n",
       "      <td>5.0</td>\n",
       "      <td>2.0</td>\n",
       "      <td>0.0</td>\n",
       "      <td>0.0</td>\n",
       "      <td>0.0</td>\n",
       "      <td>0.0</td>\n",
       "      <td>0.0</td>\n",
       "      <td>...</td>\n",
       "      <td>0.0</td>\n",
       "      <td>0.0</td>\n",
       "      <td>1.0</td>\n",
       "      <td>0.0</td>\n",
       "      <td>0.0</td>\n",
       "      <td>1.0</td>\n",
       "      <td>0.0</td>\n",
       "      <td>1.0</td>\n",
       "      <td>0.0</td>\n",
       "      <td>1.0</td>\n",
       "    </tr>\n",
       "    <tr>\n",
       "      <th>89</th>\n",
       "      <td>90.0</td>\n",
       "      <td>3681.000000</td>\n",
       "      <td>1.0</td>\n",
       "      <td>5.0</td>\n",
       "      <td>0.0</td>\n",
       "      <td>0.0</td>\n",
       "      <td>0.0</td>\n",
       "      <td>0.0</td>\n",
       "      <td>0.0</td>\n",
       "      <td>0.0</td>\n",
       "      <td>...</td>\n",
       "      <td>0.0</td>\n",
       "      <td>0.0</td>\n",
       "      <td>0.0</td>\n",
       "      <td>1.0</td>\n",
       "      <td>0.0</td>\n",
       "      <td>1.0</td>\n",
       "      <td>1.0</td>\n",
       "      <td>0.0</td>\n",
       "      <td>0.0</td>\n",
       "      <td>1.0</td>\n",
       "    </tr>\n",
       "  </tbody>\n",
       "</table>\n",
       "<p>90 rows × 83 columns</p>\n",
       "</div>"
      ],
      "text/plain": [
       "    FlightNumber   PayloadMass  Flights  Block  ReusedCount  Orbit_ES-L1  \\\n",
       "0            1.0   6104.959412      1.0    1.0          0.0          0.0   \n",
       "1            2.0    525.000000      1.0    1.0          0.0          0.0   \n",
       "2            3.0    677.000000      1.0    1.0          0.0          0.0   \n",
       "3            4.0    500.000000      1.0    1.0          0.0          0.0   \n",
       "4            5.0   3170.000000      1.0    1.0          0.0          0.0   \n",
       "..           ...           ...      ...    ...          ...          ...   \n",
       "85          86.0  15400.000000      2.0    5.0          2.0          0.0   \n",
       "86          87.0  15400.000000      3.0    5.0          2.0          0.0   \n",
       "87          88.0  15400.000000      6.0    5.0          5.0          0.0   \n",
       "88          89.0  15400.000000      3.0    5.0          2.0          0.0   \n",
       "89          90.0   3681.000000      1.0    5.0          0.0          0.0   \n",
       "\n",
       "    Orbit_GEO  Orbit_GTO  Orbit_HEO  Orbit_ISS  ...  Serial_B1058  \\\n",
       "0         0.0        0.0        0.0        0.0  ...           0.0   \n",
       "1         0.0        0.0        0.0        0.0  ...           0.0   \n",
       "2         0.0        0.0        0.0        1.0  ...           0.0   \n",
       "3         0.0        0.0        0.0        0.0  ...           0.0   \n",
       "4         0.0        1.0        0.0        0.0  ...           0.0   \n",
       "..        ...        ...        ...        ...  ...           ...   \n",
       "85        0.0        0.0        0.0        0.0  ...           0.0   \n",
       "86        0.0        0.0        0.0        0.0  ...           1.0   \n",
       "87        0.0        0.0        0.0        0.0  ...           0.0   \n",
       "88        0.0        0.0        0.0        0.0  ...           0.0   \n",
       "89        0.0        0.0        0.0        0.0  ...           0.0   \n",
       "\n",
       "    Serial_B1059  Serial_B1060  Serial_B1062  GridFins_False  GridFins_True  \\\n",
       "0            0.0           0.0           0.0             1.0            0.0   \n",
       "1            0.0           0.0           0.0             1.0            0.0   \n",
       "2            0.0           0.0           0.0             1.0            0.0   \n",
       "3            0.0           0.0           0.0             1.0            0.0   \n",
       "4            0.0           0.0           0.0             1.0            0.0   \n",
       "..           ...           ...           ...             ...            ...   \n",
       "85           0.0           1.0           0.0             0.0            1.0   \n",
       "86           0.0           0.0           0.0             0.0            1.0   \n",
       "87           0.0           0.0           0.0             0.0            1.0   \n",
       "88           0.0           1.0           0.0             0.0            1.0   \n",
       "89           0.0           0.0           1.0             0.0            1.0   \n",
       "\n",
       "    Reused_False  Reused_True  Legs_False  Legs_True  \n",
       "0            1.0          0.0         1.0        0.0  \n",
       "1            1.0          0.0         1.0        0.0  \n",
       "2            1.0          0.0         1.0        0.0  \n",
       "3            1.0          0.0         1.0        0.0  \n",
       "4            1.0          0.0         1.0        0.0  \n",
       "..           ...          ...         ...        ...  \n",
       "85           0.0          1.0         0.0        1.0  \n",
       "86           0.0          1.0         0.0        1.0  \n",
       "87           0.0          1.0         0.0        1.0  \n",
       "88           0.0          1.0         0.0        1.0  \n",
       "89           1.0          0.0         0.0        1.0  \n",
       "\n",
       "[90 rows x 83 columns]"
      ]
     },
     "execution_count": 6,
     "metadata": {},
     "output_type": "execute_result"
    }
   ],
   "source": [
    "X.head(100)"
   ]
  },
  {
   "cell_type": "code",
   "execution_count": 7,
   "id": "02c98ffe",
   "metadata": {},
   "outputs": [
    {
     "data": {
      "text/plain": [
       "Index(['FlightNumber', 'PayloadMass', 'Flights', 'Block', 'ReusedCount',\n",
       "       'Orbit_ES-L1', 'Orbit_GEO', 'Orbit_GTO', 'Orbit_HEO', 'Orbit_ISS',\n",
       "       'Orbit_LEO', 'Orbit_MEO', 'Orbit_PO', 'Orbit_SO', 'Orbit_SSO',\n",
       "       'Orbit_VLEO', 'LaunchSite_CCAFS SLC 40', 'LaunchSite_KSC LC 39A',\n",
       "       'LaunchSite_VAFB SLC 4E', 'LandingPad_5e9e3032383ecb267a34e7c7',\n",
       "       'LandingPad_5e9e3032383ecb554034e7c9',\n",
       "       'LandingPad_5e9e3032383ecb6bb234e7ca',\n",
       "       'LandingPad_5e9e3032383ecb761634e7cb',\n",
       "       'LandingPad_5e9e3033383ecbb9e534e7cc', 'Serial_B0003', 'Serial_B0005',\n",
       "       'Serial_B0007', 'Serial_B1003', 'Serial_B1004', 'Serial_B1005',\n",
       "       'Serial_B1006', 'Serial_B1007', 'Serial_B1008', 'Serial_B1010',\n",
       "       'Serial_B1011', 'Serial_B1012', 'Serial_B1013', 'Serial_B1015',\n",
       "       'Serial_B1016', 'Serial_B1017', 'Serial_B1018', 'Serial_B1019',\n",
       "       'Serial_B1020', 'Serial_B1021', 'Serial_B1022', 'Serial_B1023',\n",
       "       'Serial_B1025', 'Serial_B1026', 'Serial_B1028', 'Serial_B1029',\n",
       "       'Serial_B1030', 'Serial_B1031', 'Serial_B1032', 'Serial_B1034',\n",
       "       'Serial_B1035', 'Serial_B1036', 'Serial_B1037', 'Serial_B1038',\n",
       "       'Serial_B1039', 'Serial_B1040', 'Serial_B1041', 'Serial_B1042',\n",
       "       'Serial_B1043', 'Serial_B1044', 'Serial_B1045', 'Serial_B1046',\n",
       "       'Serial_B1047', 'Serial_B1048', 'Serial_B1049', 'Serial_B1050',\n",
       "       'Serial_B1051', 'Serial_B1054', 'Serial_B1056', 'Serial_B1058',\n",
       "       'Serial_B1059', 'Serial_B1060', 'Serial_B1062', 'GridFins_False',\n",
       "       'GridFins_True', 'Reused_False', 'Reused_True', 'Legs_False',\n",
       "       'Legs_True'],\n",
       "      dtype='object')"
      ]
     },
     "execution_count": 7,
     "metadata": {},
     "output_type": "execute_result"
    }
   ],
   "source": [
    "X.columns\n"
   ]
  },
  {
   "cell_type": "markdown",
   "id": "36adf650",
   "metadata": {},
   "source": [
    "## TASK  1"
   ]
  },
  {
   "cell_type": "markdown",
   "id": "f76dcb86",
   "metadata": {},
   "source": [
    "Create a NumPy array from the column <code>Class</code> in <code>data</code>, by applying the method <code>to_numpy()</code>  then\n",
    "assign it  to the variable <code>Y</code>,make sure the output is a  Pandas series (only one bracket df\\['name of  column'])."
   ]
  },
  {
   "cell_type": "code",
   "execution_count": 8,
   "id": "13733e34",
   "metadata": {},
   "outputs": [
    {
     "name": "stdout",
     "output_type": "stream",
     "text": [
      "<class 'numpy.ndarray'>\n",
      "[0 0 0 0 0 0 1 1 0 0 0 0 1 0 0 0 1 0 0 1 1 1 1 1 0 1 1 0 1 1 0 1 1 1 0 1 1\n",
      " 1 1 1 1 1 1 1 1 0 0 0 1 1 0 0 1 1 1 1 1 1 1 0 0 1 1 1 1 1 1 0 1 1 1 1 0 1\n",
      " 0 1 0 1 1 1 1 1 1 1 1 1 1 1 1 1]\n"
     ]
    }
   ],
   "source": [
    "# Extract the 'Class' column as a Pandas Series (single brackets ensure it's a Series)\n",
    "Y = data['Class']\n",
    "\n",
    "# Convert the Series to a NumPy array using the to_numpy() method\n",
    "Y = Y.to_numpy()\n",
    "\n",
    "# Verify the result\n",
    "print(type(Y))  # Should print: <class 'numpy.ndarray'>\n",
    "print(Y[:100])    # Display the first 5 values of the array\n"
   ]
  },
  {
   "cell_type": "markdown",
   "id": "2c33f9c1",
   "metadata": {},
   "source": [
    "## TASK  2\n"
   ]
  },
  {
   "cell_type": "markdown",
   "id": "ce80a2a8",
   "metadata": {},
   "source": [
    "Standardize the data in <code>X</code> then reassign it to the variable  <code>X</code> using the transform provided below."
   ]
  },
  {
   "cell_type": "code",
   "execution_count": 9,
   "id": "39180e08",
   "metadata": {},
   "outputs": [
    {
     "name": "stdout",
     "output_type": "stream",
     "text": [
      "Columnas no numéricas: Index([], dtype='object')\n"
     ]
    }
   ],
   "source": [
    "# Identificar columnas no numéricas en el DataFrame\n",
    "non_numeric_columns = X.select_dtypes(include=['object']).columns\n",
    "print(\"Columnas no numéricas:\", non_numeric_columns)\n"
   ]
  },
  {
   "cell_type": "code",
   "execution_count": 10,
   "id": "4da12e6b",
   "metadata": {},
   "outputs": [
    {
     "name": "stdout",
     "output_type": "stream",
     "text": [
      "[[-1.71291154e+00 -1.94814463e-16 -6.53912840e-01 -1.57589457e+00\n",
      "  -9.73440458e-01 -1.05999788e-01 -1.05999788e-01 -6.54653671e-01\n",
      "  -1.05999788e-01 -5.51677284e-01  3.44342023e+00 -1.85695338e-01\n",
      "  -3.33333333e-01 -1.05999788e-01 -2.42535625e-01 -4.29197538e-01\n",
      "   7.97724035e-01 -5.68796459e-01 -4.10890702e-01 -4.10890702e-01\n",
      "  -1.50755672e-01 -7.97724035e-01 -1.50755672e-01 -3.92232270e-01\n",
      "   9.43398113e+00 -1.05999788e-01 -1.05999788e-01 -1.05999788e-01\n",
      "  -1.05999788e-01 -1.05999788e-01 -1.05999788e-01 -1.05999788e-01\n",
      "  -1.05999788e-01 -1.05999788e-01 -1.05999788e-01 -1.05999788e-01\n",
      "  -1.05999788e-01 -1.05999788e-01 -1.05999788e-01 -1.05999788e-01\n",
      "  -1.05999788e-01 -1.05999788e-01 -1.05999788e-01 -1.50755672e-01\n",
      "  -1.05999788e-01 -1.05999788e-01 -1.05999788e-01 -1.05999788e-01\n",
      "  -1.05999788e-01 -1.50755672e-01 -1.05999788e-01 -1.50755672e-01\n",
      "  -1.50755672e-01 -1.05999788e-01 -1.50755672e-01 -1.50755672e-01\n",
      "  -1.05999788e-01 -1.05999788e-01 -1.50755672e-01 -1.50755672e-01\n",
      "  -1.50755672e-01 -1.05999788e-01 -1.05999788e-01 -1.05999788e-01\n",
      "  -1.50755672e-01 -2.15665546e-01 -1.85695338e-01 -2.15665546e-01\n",
      "  -2.67261242e-01 -1.05999788e-01 -2.42535625e-01 -1.05999788e-01\n",
      "  -2.15665546e-01 -1.85695338e-01 -2.15665546e-01 -1.85695338e-01\n",
      "  -1.05999788e-01  1.87082869e+00 -1.87082869e+00  8.35531692e-01\n",
      "  -8.35531692e-01  1.93309133e+00 -1.93309133e+00]\n",
      " [-1.67441914e+00 -1.19523159e+00 -6.53912840e-01 -1.57589457e+00\n",
      "  -9.73440458e-01 -1.05999788e-01 -1.05999788e-01 -6.54653671e-01\n",
      "  -1.05999788e-01 -5.51677284e-01  3.44342023e+00 -1.85695338e-01\n",
      "  -3.33333333e-01 -1.05999788e-01 -2.42535625e-01 -4.29197538e-01\n",
      "   7.97724035e-01 -5.68796459e-01 -4.10890702e-01 -4.10890702e-01\n",
      "  -1.50755672e-01 -7.97724035e-01 -1.50755672e-01 -3.92232270e-01\n",
      "  -1.05999788e-01  9.43398113e+00 -1.05999788e-01 -1.05999788e-01\n",
      "  -1.05999788e-01 -1.05999788e-01 -1.05999788e-01 -1.05999788e-01\n",
      "  -1.05999788e-01 -1.05999788e-01 -1.05999788e-01 -1.05999788e-01\n",
      "  -1.05999788e-01 -1.05999788e-01 -1.05999788e-01 -1.05999788e-01\n",
      "  -1.05999788e-01 -1.05999788e-01 -1.05999788e-01 -1.50755672e-01\n",
      "  -1.05999788e-01 -1.05999788e-01 -1.05999788e-01 -1.05999788e-01\n",
      "  -1.05999788e-01 -1.50755672e-01 -1.05999788e-01 -1.50755672e-01\n",
      "  -1.50755672e-01 -1.05999788e-01 -1.50755672e-01 -1.50755672e-01\n",
      "  -1.05999788e-01 -1.05999788e-01 -1.50755672e-01 -1.50755672e-01\n",
      "  -1.50755672e-01 -1.05999788e-01 -1.05999788e-01 -1.05999788e-01\n",
      "  -1.50755672e-01 -2.15665546e-01 -1.85695338e-01 -2.15665546e-01\n",
      "  -2.67261242e-01 -1.05999788e-01 -2.42535625e-01 -1.05999788e-01\n",
      "  -2.15665546e-01 -1.85695338e-01 -2.15665546e-01 -1.85695338e-01\n",
      "  -1.05999788e-01  1.87082869e+00 -1.87082869e+00  8.35531692e-01\n",
      "  -8.35531692e-01  1.93309133e+00 -1.93309133e+00]\n",
      " [-1.63592675e+00 -1.16267307e+00 -6.53912840e-01 -1.57589457e+00\n",
      "  -9.73440458e-01 -1.05999788e-01 -1.05999788e-01 -6.54653671e-01\n",
      "  -1.05999788e-01  1.81265393e+00 -2.90408935e-01 -1.85695338e-01\n",
      "  -3.33333333e-01 -1.05999788e-01 -2.42535625e-01 -4.29197538e-01\n",
      "   7.97724035e-01 -5.68796459e-01 -4.10890702e-01 -4.10890702e-01\n",
      "  -1.50755672e-01 -7.97724035e-01 -1.50755672e-01 -3.92232270e-01\n",
      "  -1.05999788e-01 -1.05999788e-01  9.43398113e+00 -1.05999788e-01\n",
      "  -1.05999788e-01 -1.05999788e-01 -1.05999788e-01 -1.05999788e-01\n",
      "  -1.05999788e-01 -1.05999788e-01 -1.05999788e-01 -1.05999788e-01\n",
      "  -1.05999788e-01 -1.05999788e-01 -1.05999788e-01 -1.05999788e-01\n",
      "  -1.05999788e-01 -1.05999788e-01 -1.05999788e-01 -1.50755672e-01\n",
      "  -1.05999788e-01 -1.05999788e-01 -1.05999788e-01 -1.05999788e-01\n",
      "  -1.05999788e-01 -1.50755672e-01 -1.05999788e-01 -1.50755672e-01\n",
      "  -1.50755672e-01 -1.05999788e-01 -1.50755672e-01 -1.50755672e-01\n",
      "  -1.05999788e-01 -1.05999788e-01 -1.50755672e-01 -1.50755672e-01\n",
      "  -1.50755672e-01 -1.05999788e-01 -1.05999788e-01 -1.05999788e-01\n",
      "  -1.50755672e-01 -2.15665546e-01 -1.85695338e-01 -2.15665546e-01\n",
      "  -2.67261242e-01 -1.05999788e-01 -2.42535625e-01 -1.05999788e-01\n",
      "  -2.15665546e-01 -1.85695338e-01 -2.15665546e-01 -1.85695338e-01\n",
      "  -1.05999788e-01  1.87082869e+00 -1.87082869e+00  8.35531692e-01\n",
      "  -8.35531692e-01  1.93309133e+00 -1.93309133e+00]\n",
      " [-1.59743435e+00 -1.20058661e+00 -6.53912840e-01 -1.57589457e+00\n",
      "  -9.73440458e-01 -1.05999788e-01 -1.05999788e-01 -6.54653671e-01\n",
      "  -1.05999788e-01 -5.51677284e-01 -2.90408935e-01 -1.85695338e-01\n",
      "   3.00000000e+00 -1.05999788e-01 -2.42535625e-01 -4.29197538e-01\n",
      "  -1.25356634e+00 -5.68796459e-01  2.43373723e+00 -4.10890702e-01\n",
      "  -1.50755672e-01 -7.97724035e-01 -1.50755672e-01 -3.92232270e-01\n",
      "  -1.05999788e-01 -1.05999788e-01 -1.05999788e-01  9.43398113e+00\n",
      "  -1.05999788e-01 -1.05999788e-01 -1.05999788e-01 -1.05999788e-01\n",
      "  -1.05999788e-01 -1.05999788e-01 -1.05999788e-01 -1.05999788e-01\n",
      "  -1.05999788e-01 -1.05999788e-01 -1.05999788e-01 -1.05999788e-01\n",
      "  -1.05999788e-01 -1.05999788e-01 -1.05999788e-01 -1.50755672e-01\n",
      "  -1.05999788e-01 -1.05999788e-01 -1.05999788e-01 -1.05999788e-01\n",
      "  -1.05999788e-01 -1.50755672e-01 -1.05999788e-01 -1.50755672e-01\n",
      "  -1.50755672e-01 -1.05999788e-01 -1.50755672e-01 -1.50755672e-01\n",
      "  -1.05999788e-01 -1.05999788e-01 -1.50755672e-01 -1.50755672e-01\n",
      "  -1.50755672e-01 -1.05999788e-01 -1.05999788e-01 -1.05999788e-01\n",
      "  -1.50755672e-01 -2.15665546e-01 -1.85695338e-01 -2.15665546e-01\n",
      "  -2.67261242e-01 -1.05999788e-01 -2.42535625e-01 -1.05999788e-01\n",
      "  -2.15665546e-01 -1.85695338e-01 -2.15665546e-01 -1.85695338e-01\n",
      "  -1.05999788e-01  1.87082869e+00 -1.87082869e+00  8.35531692e-01\n",
      "  -8.35531692e-01  1.93309133e+00 -1.93309133e+00]\n",
      " [-1.55894196e+00 -6.28670558e-01 -6.53912840e-01 -1.57589457e+00\n",
      "  -9.73440458e-01 -1.05999788e-01 -1.05999788e-01  1.52752523e+00\n",
      "  -1.05999788e-01 -5.51677284e-01 -2.90408935e-01 -1.85695338e-01\n",
      "  -3.33333333e-01 -1.05999788e-01 -2.42535625e-01 -4.29197538e-01\n",
      "   7.97724035e-01 -5.68796459e-01 -4.10890702e-01 -4.10890702e-01\n",
      "  -1.50755672e-01 -7.97724035e-01 -1.50755672e-01 -3.92232270e-01\n",
      "  -1.05999788e-01 -1.05999788e-01 -1.05999788e-01 -1.05999788e-01\n",
      "   9.43398113e+00 -1.05999788e-01 -1.05999788e-01 -1.05999788e-01\n",
      "  -1.05999788e-01 -1.05999788e-01 -1.05999788e-01 -1.05999788e-01\n",
      "  -1.05999788e-01 -1.05999788e-01 -1.05999788e-01 -1.05999788e-01\n",
      "  -1.05999788e-01 -1.05999788e-01 -1.05999788e-01 -1.50755672e-01\n",
      "  -1.05999788e-01 -1.05999788e-01 -1.05999788e-01 -1.05999788e-01\n",
      "  -1.05999788e-01 -1.50755672e-01 -1.05999788e-01 -1.50755672e-01\n",
      "  -1.50755672e-01 -1.05999788e-01 -1.50755672e-01 -1.50755672e-01\n",
      "  -1.05999788e-01 -1.05999788e-01 -1.50755672e-01 -1.50755672e-01\n",
      "  -1.50755672e-01 -1.05999788e-01 -1.05999788e-01 -1.05999788e-01\n",
      "  -1.50755672e-01 -2.15665546e-01 -1.85695338e-01 -2.15665546e-01\n",
      "  -2.67261242e-01 -1.05999788e-01 -2.42535625e-01 -1.05999788e-01\n",
      "  -2.15665546e-01 -1.85695338e-01 -2.15665546e-01 -1.85695338e-01\n",
      "  -1.05999788e-01  1.87082869e+00 -1.87082869e+00  8.35531692e-01\n",
      "  -8.35531692e-01  1.93309133e+00 -1.93309133e+00]]\n"
     ]
    }
   ],
   "source": [
    "from sklearn import preprocessing\n",
    "\n",
    "# Filtrar solo las columnas numéricas para evitar problemas con valores no numéricos\n",
    "X_cleaned = X.select_dtypes(include=[np.number])  # Seleccionar solo columnas numéricas\n",
    "\n",
    "# Estandarizar los datos en X_cleaned\n",
    "transform = preprocessing.StandardScaler()\n",
    "X_standardized = transform.fit_transform(X_cleaned)\n",
    "\n",
    "# Verificar las primeras filas estandarizadas\n",
    "print(X_standardized[:5])"
   ]
  },
  {
   "cell_type": "markdown",
   "id": "f1aae064",
   "metadata": {},
   "source": [
    "We split the data into training and testing data using the function train_test_split. The training data is divided into validation data, a second set used for training data; then the models are trained and hyperparameters are selected using the function GridSearchCV."
   ]
  },
  {
   "cell_type": "markdown",
   "id": "bd078b46",
   "metadata": {},
   "source": [
    "## TASK  3"
   ]
  },
  {
   "cell_type": "markdown",
   "id": "c1466a25",
   "metadata": {},
   "source": [
    "Use the function train_test_split to split the data X and Y into training and test data. Set the parameter test_size to  0.2 and random_state to 2. The training data and test data should be assigned to the following labels."
   ]
  },
  {
   "cell_type": "code",
   "execution_count": 11,
   "id": "e572e8da",
   "metadata": {},
   "outputs": [
    {
     "data": {
      "text/plain": [
       "((72, 83), (18, 83), (72,), (18,))"
      ]
     },
     "execution_count": 11,
     "metadata": {},
     "output_type": "execute_result"
    }
   ],
   "source": [
    "from sklearn.model_selection import train_test_split\n",
    "\n",
    "# TASK 3: Dividir los datos X y Y en conjuntos de entrenamiento y prueba\n",
    "X_train, X_test, Y_train, Y_test = train_test_split(X, Y, test_size=0.2, random_state=2)\n",
    "\n",
    "# Verificar las dimensiones de los conjuntos resultantes\n",
    "X_train.shape, X_test.shape, Y_train.shape, Y_test.shape"
   ]
  },
  {
   "cell_type": "markdown",
   "id": "25f25170",
   "metadata": {},
   "source": [
    "## TASK  4"
   ]
  },
  {
   "cell_type": "markdown",
   "id": "1348e661",
   "metadata": {},
   "source": [
    "Create a logistic regression object  then create a  GridSearchCV object  <code>logreg_cv</code> with cv = 10.  Fit the object to find the best parameters from the dictionary <code>parameters</code>.\n"
   ]
  },
  {
   "cell_type": "code",
   "execution_count": 12,
   "id": "23fa2530",
   "metadata": {},
   "outputs": [
    {
     "name": "stdout",
     "output_type": "stream",
     "text": [
      "{'C': 0.01, 'penalty': 'l2', 'solver': 'lbfgs'} 0.8464285714285713\n"
     ]
    }
   ],
   "source": [
    "from sklearn.impute import SimpleImputer\n",
    "from sklearn.linear_model import LogisticRegression\n",
    "from sklearn.model_selection import GridSearchCV\n",
    "\n",
    "# Imputar valores faltantes en los datos estandarizados\n",
    "imputer = SimpleImputer(strategy='mean')\n",
    "X_cleaned = imputer.fit_transform(X_standardized)\n",
    "\n",
    "# Dividir nuevamente los datos en conjuntos de entrenamiento y prueba\n",
    "X_train, X_test, Y_train, Y_test = train_test_split(X_cleaned, Y, test_size=0.2, random_state=2)\n",
    "\n",
    "# Definir los parámetros para GridSearchCV\n",
    "parameters ={'C':[0.01,0.1,1],\n",
    "             'penalty':['l2'],\n",
    "             'solver':['lbfgs']}\n",
    "lr = LogisticRegression()\n",
    "logreg_cv = GridSearchCV(lr, parameters, cv=10)\n",
    "logreg_cv.fit(X_train, Y_train)\n",
    "\n",
    "# Mostrar los mejores parámetros y el mejor puntaje obtenido\n",
    "print(logreg_cv.best_params_, logreg_cv.best_score_)\n"
   ]
  },
  {
   "cell_type": "markdown",
   "id": "e59bc913",
   "metadata": {},
   "source": [
    "We output the <code>GridSearchCV</code> object for logistic regression. We display the best parameters using the data attribute <code>best_params\\_</code> and the accuracy on the validation data using the data attribute <code>best_score\\_</code>."
   ]
  },
  {
   "cell_type": "code",
   "execution_count": 13,
   "id": "c92c0d55",
   "metadata": {},
   "outputs": [
    {
     "name": "stdout",
     "output_type": "stream",
     "text": [
      "tuned hpyerparameters :(best parameters)  {'C': 0.01, 'penalty': 'l2', 'solver': 'lbfgs'}\n",
      "accuracy : 0.8464285714285713\n"
     ]
    }
   ],
   "source": [
    "print(\"tuned hpyerparameters :(best parameters) \",logreg_cv.best_params_)\n",
    "print(\"accuracy :\",logreg_cv.best_score_)"
   ]
  },
  {
   "cell_type": "markdown",
   "id": "0d1c28ac",
   "metadata": {},
   "source": [
    "## TASK  5"
   ]
  },
  {
   "cell_type": "markdown",
   "id": "4669cf63",
   "metadata": {},
   "source": [
    "Calculate the accuracy on the test data using the method <code>score</code>:"
   ]
  },
  {
   "cell_type": "code",
   "execution_count": 14,
   "id": "3cc51a21",
   "metadata": {},
   "outputs": [
    {
     "name": "stdout",
     "output_type": "stream",
     "text": [
      "0.8333333333333334\n"
     ]
    }
   ],
   "source": [
    "test_score = logreg_cv.score(X_test, Y_test)\n",
    "\n",
    "# Mostrar la precisión en los datos de prueba\n",
    "print(test_score)"
   ]
  },
  {
   "cell_type": "markdown",
   "id": "b452525c",
   "metadata": {},
   "source": [
    "Lets look at the confusion matrix:"
   ]
  },
  {
   "cell_type": "code",
   "execution_count": 15,
   "id": "391a279a",
   "metadata": {},
   "outputs": [
    {
     "data": {
      "image/png": "[encoded data removed]",
      "text/plain": [
       "<Figure size 640x480 with 2 Axes>"
      ]
     },
     "metadata": {},
     "output_type": "display_data"
    }
   ],
   "source": [
    "log_yhat=logreg_cv.predict(X_test)\n",
    "plot_confusion_matrix(Y_test,log_yhat)"
   ]
  },
  {
   "cell_type": "markdown",
   "id": "e5928f57",
   "metadata": {},
   "source": [
    "Examining the confusion matrix, we see that logistic regression can distinguish between the different classes.  We see that the problem is false positives.\n",
    "\n",
    "Overview:\n",
    "\n",
    "True Postive - 12 (True label is landed, Predicted label is also landed)\n",
    "\n",
    "False Postive - 3 (True label is not landed, Predicted label is landed)"
   ]
  },
  {
   "cell_type": "markdown",
   "id": "c54f20ea",
   "metadata": {},
   "source": [
    "## TASK  6"
   ]
  },
  {
   "cell_type": "markdown",
   "id": "4623867f",
   "metadata": {},
   "source": [
    "Create a support vector machine object then  create a  <code>GridSearchCV</code> object  <code>svm_cv</code> with cv = 10.  Fit the object to find the best parameters from the dictionary <code>parameters</code>."
   ]
  },
  {
   "cell_type": "code",
   "execution_count": 16,
   "id": "be8cdd32",
   "metadata": {},
   "outputs": [],
   "source": [
    "parameters = {'kernel':('linear', 'rbf','poly','rbf', 'sigmoid'),\n",
    "              'C': np.logspace(-3, 3, 5),\n",
    "              'gamma':np.logspace(-3, 3, 5)}\n",
    "svm = SVC()"
   ]
  },
  {
   "cell_type": "code",
   "execution_count": 17,
   "id": "c4c198be",
   "metadata": {},
   "outputs": [
    {
     "name": "stdout",
     "output_type": "stream",
     "text": [
      "{'C': 1.0, 'gamma': 0.03162277660168379, 'kernel': 'sigmoid'} 0.8482142857142856\n"
     ]
    }
   ],
   "source": [
    "svm_cv = GridSearchCV(svm, parameters, cv=10)\n",
    "svm_cv.fit(X_train, Y_train)\n",
    "\n",
    "# Mostrar los mejores parámetros y el mejor puntaje obtenido\n",
    "print(svm_cv.best_params_, svm_cv.best_score_)"
   ]
  },
  {
   "cell_type": "markdown",
   "id": "ffa56f78",
   "metadata": {},
   "source": [
    "## TASK  7\n"
   ]
  },
  {
   "cell_type": "markdown",
   "id": "d3d8ffdd",
   "metadata": {},
   "source": [
    "Calculate the accuracy on the test data using the method <code>score</code>:"
   ]
  },
  {
   "cell_type": "code",
   "execution_count": 18,
   "id": "a48409d0",
   "metadata": {},
   "outputs": [
    {
     "data": {
      "image/png": "[encoded data removed]",
      "text/plain": [
       "<Figure size 640x480 with 2 Axes>"
      ]
     },
     "metadata": {},
     "output_type": "display_data"
    },
    {
     "name": "stdout",
     "output_type": "stream",
     "text": [
      "0.8333333333333334\n"
     ]
    }
   ],
   "source": [
    "# Predecir en el conjunto de prueba\n",
    "svm_yhat = svm_cv.predict(X_test)\n",
    "\n",
    "# Calcular la precisión en los datos de prueba\n",
    "svm_test_score = svm_cv.score(X_test, Y_test)\n",
    "\n",
    "# Definir la función para trazar la matriz de confusión\n",
    "def plot_confusion_matrix(y, y_predict):\n",
    "    \"\"\"Esta función grafica la matriz de confusión\"\"\"\n",
    "    from sklearn.metrics import confusion_matrix\n",
    "\n",
    "    cm = confusion_matrix(y, y_predict)\n",
    "    ax = plt.subplot()\n",
    "    sns.heatmap(cm, annot=True, ax=ax)  # Anotar las celdas\n",
    "    ax.set_xlabel('Predicted labels')\n",
    "    ax.set_ylabel('True labels')\n",
    "    ax.set_title('Confusion Matrix')\n",
    "    ax.xaxis.set_ticklabels(['did not land', 'land'])\n",
    "    ax.yaxis.set_ticklabels(['did not land', 'landed'])\n",
    "    plt.show()\n",
    "\n",
    "# Graficar la matriz de confusión\n",
    "plot_confusion_matrix(Y_test, svm_yhat)\n",
    "\n",
    "# Mostrar la precisión en los datos de prueba\n",
    "print(svm_test_score)"
   ]
  },
  {
   "cell_type": "markdown",
   "id": "0312a67e",
   "metadata": {},
   "source": [
    "## TASK  8"
   ]
  },
  {
   "cell_type": "markdown",
   "id": "85456c31",
   "metadata": {},
   "source": [
    "Create a decision tree classifier object then  create a  <code>GridSearchCV</code> object  <code>tree_cv</code> with cv = 10.  Fit the object to find the best parameters from the dictionary <code>parameters</code>.\n"
   ]
  },
  {
   "cell_type": "code",
   "execution_count": 19,
   "id": "5ea442ad",
   "metadata": {},
   "outputs": [
    {
     "name": "stdout",
     "output_type": "stream",
     "text": [
      "Tuned hyperparameters (best parameters): {'criterion': 'gini', 'max_depth': 18, 'max_features': 'auto', 'min_samples_leaf': 1, 'min_samples_split': 10, 'splitter': 'best'}\n",
      "Accuracy: 0.8875\n"
     ]
    }
   ],
   "source": [
    "# TASK 8: Crear un clasificador de árboles de decisión y usar GridSearchCV para ajustar los hiperparámetros\n",
    "parameters = {\n",
    "    'criterion': ['gini', 'entropy'],\n",
    "    'splitter': ['best', 'random'],\n",
    "    'max_depth': [2 * n for n in range(1, 10)],\n",
    "    'max_features': ['auto', 'sqrt'],\n",
    "    'min_samples_leaf': [1, 2, 4],\n",
    "    'min_samples_split': [2, 5, 10]\n",
    "}\n",
    "tree = DecisionTreeClassifier()\n",
    "tree_cv = GridSearchCV(tree, parameters, cv=10)\n",
    "tree_cv.fit(X_train, Y_train)\n",
    "\n",
    "# Mostrar los mejores parámetros y el mejor puntaje obtenido\n",
    "print(\"Tuned hyperparameters (best parameters):\", tree_cv.best_params_)\n",
    "print(\"Accuracy:\", tree_cv.best_score_)"
   ]
  },
  {
   "cell_type": "markdown",
   "id": "8cae9220",
   "metadata": {},
   "source": [
    "## TASK  9\n"
   ]
  },
  {
   "cell_type": "markdown",
   "id": "f81c7b99",
   "metadata": {},
   "source": [
    "Calculate the accuracy of tree_cv on the test data using the method <code>score</code>:"
   ]
  },
  {
   "cell_type": "code",
   "execution_count": 20,
   "id": "31bfac43",
   "metadata": {},
   "outputs": [
    {
     "name": "stdout",
     "output_type": "stream",
     "text": [
      "0.7777777777777778\n"
     ]
    }
   ],
   "source": [
    "# TASK 9: Calcular la precisión del clasificador de árboles de decisión en los datos de prueba\n",
    "tree_test_score = tree_cv.score(X_test, Y_test)\n",
    "\n",
    "# Mostrar la precisión en los datos de prueba\n",
    "print(tree_test_score)"
   ]
  },
  {
   "cell_type": "code",
   "execution_count": 21,
   "id": "0c78547b",
   "metadata": {},
   "outputs": [
    {
     "data": {
      "image/png": "[encoded data removed]",
      "text/plain": [
       "<Figure size 640x480 with 2 Axes>"
      ]
     },
     "metadata": {},
     "output_type": "display_data"
    }
   ],
   "source": [
    "tree_yhat = tree_cv.predict(X_test)\n",
    "plot_confusion_matrix(Y_test,tree_yhat)"
   ]
  },
  {
   "cell_type": "markdown",
   "id": "40d61636",
   "metadata": {},
   "source": [
    "## TASK  10"
   ]
  },
  {
   "cell_type": "markdown",
   "id": "82763b2f",
   "metadata": {},
   "source": [
    "Create a k nearest neighbors object then  create a  <code>GridSearchCV</code> object  <code>knn_cv</code> with cv = 10.  Fit the object to find the best parameters from the dictionary <code>parameters</code>."
   ]
  },
  {
   "cell_type": "code",
   "execution_count": 22,
   "id": "7506ff42",
   "metadata": {},
   "outputs": [],
   "source": [
    "import warnings\n",
    "\n",
    "# Ignorar advertencias relacionadas con SciPy y sklearn\n",
    "warnings.filterwarnings(\"ignore\", category=FutureWarning)\n",
    "\n"
   ]
  },
  {
   "cell_type": "code",
   "execution_count": 23,
   "id": "e16de06c",
   "metadata": {},
   "outputs": [
    {
     "name": "stdout",
     "output_type": "stream",
     "text": [
      "Tuned hyperparameters (best parameters): {'algorithm': 'auto', 'n_neighbors': 10, 'p': 1}\n",
      "Accuracy: 0.8482142857142858\n"
     ]
    }
   ],
   "source": [
    "from sklearn.neighbors import KNeighborsClassifier\n",
    "\n",
    "# TASK 10: Crear un clasificador kNN y usar GridSearchCV para ajustar los hiperparámetros\n",
    "parameters = {\n",
    "    'n_neighbors': [1, 2, 3, 4, 5, 6, 7, 8, 9, 10],\n",
    "    'algorithm': ['auto', 'ball_tree', 'kd_tree', 'brute'],\n",
    "    'p': [1, 2]\n",
    "}\n",
    "knn = KNeighborsClassifier()\n",
    "knn_cv = GridSearchCV(knn, parameters, cv=10)\n",
    "knn_cv.fit(X_train, Y_train)\n",
    "\n",
    "# Mostrar los mejores parámetros y el mejor puntaje obtenido\n",
    "print(\"Tuned hyperparameters (best parameters):\", knn_cv.best_params_)\n",
    "print(\"Accuracy:\", knn_cv.best_score_)"
   ]
  },
  {
   "cell_type": "markdown",
   "id": "06ee874c",
   "metadata": {},
   "source": [
    "## TASK  11"
   ]
  },
  {
   "cell_type": "markdown",
   "id": "930eecbb",
   "metadata": {},
   "source": [
    "Calculate the accuracy of knn_cv on the test data using the method <code>score</code>:"
   ]
  },
  {
   "cell_type": "code",
   "execution_count": 24,
   "id": "97c3bbe6",
   "metadata": {},
   "outputs": [
    {
     "data": {
      "image/png": "[encoded data removed]",
      "text/plain": [
       "<Figure size 640x480 with 2 Axes>"
      ]
     },
     "metadata": {},
     "output_type": "display_data"
    },
    {
     "name": "stdout",
     "output_type": "stream",
     "text": [
      "0.8333333333333334\n"
     ]
    }
   ],
   "source": [
    "# TASK 11: Calcular la precisión de knn_cv en los datos de prueba y trazar la matriz de confusión\n",
    "# Predecir en los datos de prueba\n",
    "knn_yhat = knn_cv.predict(X_test)\n",
    "\n",
    "# Calcular la precisión en los datos de prueba\n",
    "knn_test_score = knn_cv.score(X_test, Y_test)\n",
    "\n",
    "# Trazar la matriz de confusión\n",
    "plot_confusion_matrix(Y_test, knn_yhat)\n",
    "\n",
    "# Mostrar la precisión en los datos de prueba\n",
    "print(knn_test_score)"
   ]
  },
  {
   "cell_type": "markdown",
   "id": "a9c4ee21",
   "metadata": {},
   "source": [
    "## TASK  12"
   ]
  },
  {
   "cell_type": "markdown",
   "id": "3aa65689",
   "metadata": {},
   "source": [
    "Find the method performs best:"
   ]
  },
  {
   "cell_type": "code",
   "execution_count": 25,
   "id": "98383748",
   "metadata": {},
   "outputs": [
    {
     "name": "stdout",
     "output_type": "stream",
     "text": [
      "yhat Predictions (SVM): [1 1 1 1 1 1 1 0 1 0 0 1 1 1 1 1 1 1]\n",
      "yhat Predictions (Logistic Regression): [1 1 1 1 1 1 1 0 1 0 0 1 1 1 1 1 1 1]\n",
      "yhat Predictions (Decision Tree): [1 1 1 0 1 1 1 0 1 0 0 0 1 0 1 1 0 0]\n",
      "knn_yhat Predictions (kNN): [1 1 1 1 1 1 1 0 1 0 0 1 1 1 1 1 1 1]\n"
     ]
    }
   ],
   "source": [
    "print(\"yhat Predictions (SVM):\", svm_yhat)\n",
    "print(\"yhat Predictions (Logistic Regression):\", log_yhat)\n",
    "print(\"yhat Predictions (Decision Tree):\", tree_yhat)\n",
    "print(\"knn_yhat Predictions (kNN):\", knn_yhat)"
   ]
  },
  {
   "cell_type": "code",
   "execution_count": 28,
   "id": "079b96c9",
   "metadata": {},
   "outputs": [
    {
     "data": {
      "image/png": "[encoded data removed]",
      "text/plain": [
       "<Figure size 800x500 with 1 Axes>"
      ]
     },
     "metadata": {},
     "output_type": "display_data"
    }
   ],
   "source": [
    "import matplotlib.pyplot as plt\n",
    "\n",
    "# Datos de precisión de los modelos\n",
    "models = ['Logistic Regression', 'SVM', 'kNN', 'Decision Tree']\n",
    "accuracy = [83, 83, 83, 77]\n",
    "\n",
    "# Crear el gráfico de barras\n",
    "plt.figure(figsize=(8, 5))\n",
    "plt.bar(models, accuracy, color=['blue', 'green', 'orange', 'red'])\n",
    "\n",
    "# Etiquetas y título\n",
    "plt.xlabel('Modelos de Clasificación')\n",
    "plt.ylabel('Precisión (%)')\n",
    "plt.title('Comparación de Precisión entre Modelos de Clasificación')\n",
    "plt.ylim(70, 100)  # Ajuste del rango del eje Y para una mejor visualización\n",
    "plt.xticks(rotation=15)\n",
    "plt.grid(axis='y', linestyle='--', alpha=0.7)\n",
    "\n",
    "# Mostrar valores en las barras\n",
    "for i, acc in enumerate(accuracy):\n",
    "    plt.text(i, acc + 0.5, f'{acc}%', ha='center', fontsize=10, fontweight='bold')\n",
    "\n",
    "# Mostrar el gráfico\n",
    "plt.show()"
   ]
  },
  {
   "cell_type": "code",
   "execution_count": null,
   "id": "20e85f75",
   "metadata": {},
   "outputs": [],
   "source": []
  }
 ],
 "metadata": {
  "kernelspec": {
   "display_name": "Python 3 (ipykernel)",
   "language": "python",
   "name": "python3"
  },
  "language_info": {
   "codemirror_mode": {
    "name": "ipython",
    "version": 3
   },
   "file_extension": ".py",
   "mimetype": "text/x-python",
   "name": "python",
   "nbconvert_exporter": "python",
   "pygments_lexer": "ipython3",
   "version": "3.9.13"
  }
 },
 "nbformat": 4,
 "nbformat_minor": 5
}
